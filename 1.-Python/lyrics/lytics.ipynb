{
 "cells": [
  {
   "cell_type": "markdown",
   "metadata": {},
   "source": [
    "# Lyrics\n",
    "## Intro\n",
    "This exercise is simple. You are going to create a code that writes the lyrics of a famous song. **The shorter your code is, the better**. Although it may seem a bit silly, it is important that you learn to automate repetitive tasks or that there are few changes between them.\n",
    "\n",
    "<img src=\"./images/babyshark.jpeg\" width=\"400\">\n",
    "\n",
    "## Song\n",
    "\n",
    "```\n",
    "Baby shark, doo doo doo doo doo doo\n",
    "Baby shark, doo doo doo doo doo doo\n",
    "Baby shark, doo doo doo doo doo doo\n",
    "Baby shark!\n",
    "Mommy shark, doo doo doo doo doo doo\n",
    "Mommy shark, doo doo doo doo doo doo\n",
    "Mommy shark, doo doo doo doo doo doo\n",
    "Mommy shark!\n",
    "Daddy shark, doo doo doo doo doo doo\n",
    "Daddy shark, doo doo doo doo doo doo\n",
    "Daddy shark, doo doo doo doo doo doo\n",
    "Daddy shark!\n",
    "Grandma shark, doo doo doo doo doo doo\n",
    "Grandma shark, doo doo doo doo doo doo\n",
    "Grandma shark, doo doo doo doo doo doo\n",
    "Grandma shark!\n",
    "Grandpa shark, doo doo doo doo doo doo\n",
    "Grandpa shark, doo doo doo doo doo doo\n",
    "Grandpa shark, doo doo doo doo doo doo\n",
    "Grandpa shark!\n",
    "Let's go hunt, doo doo doo doo doo doo\n",
    "Let's go hunt, doo doo doo doo doo doo\n",
    "Let's go hunt, doo doo doo doo doo doo\n",
    "Let's go hunt!\n",
    "Run away,… \n",
    "```\n",
    "\n",
    "\n",
    "## Goals\n",
    "\n",
    "0. Use of string methods: **format()**, **str()**\n",
    "1. Use of **for loop**\n",
    "2. Use of the function **range()**\n",
    "3. print()\n",
    "4. Use of functions\n",
    "5. Open files\n",
    "6. Refactoring\n",
    "\n",
    "## Hints\n",
    "\n",
    "* '\\n' is the character for new line. It must end every string in the third step. \n",
    "\n",
    "\n",
    "## Solution"
   ]
  },
  {
   "cell_type": "code",
   "execution_count": 1,
   "metadata": {},
   "outputs": [],
   "source": [
    "# Variable\n",
    "\n",
    "babyshark = '''Baby shark, doo doo doo doo doo doo\n",
    "Baby shark, doo doo doo doo doo doo\n",
    "Baby shark, doo doo doo doo doo doo\n",
    "Baby shark!\n",
    "Mommy shark, doo doo doo doo doo doo\n",
    "Mommy shark, doo doo doo doo doo doo\n",
    "Mommy shark, doo doo doo doo doo doo\n",
    "Mommy shark!\n",
    "Daddy shark, doo doo doo doo doo doo\n",
    "Daddy shark, doo doo doo doo doo doo\n",
    "Daddy shark, doo doo doo doo doo doo\n",
    "Daddy shark!\n",
    "Grandma shark, doo doo doo doo doo doo\n",
    "Grandma shark, doo doo doo doo doo doo\n",
    "Grandma shark, doo doo doo doo doo doo\n",
    "Grandma shark!\n",
    "Grandpa shark, doo doo doo doo doo doo\n",
    "Grandpa shark, doo doo doo doo doo doo\n",
    "Grandpa shark, doo doo doo doo doo doo\n",
    "Grandpa shark!\n",
    "Let's go hunt, doo doo doo doo doo doo\n",
    "Let's go hunt, doo doo doo doo doo doo\n",
    "Let's go hunt, doo doo doo doo doo doo\n",
    "Let's go hunt!\n",
    "Run away,...'''"
   ]
  },
  {
   "cell_type": "markdown",
   "metadata": {},
   "source": [
    "### Step 1: First Paragraph\n",
    "Create a code to print the first paragraph and asign it to a variable. "
   ]
  },
  {
   "cell_type": "code",
   "execution_count": 2,
   "metadata": {},
   "outputs": [
    {
     "name": "stdout",
     "output_type": "stream",
     "text": [
      "Baby Shark, doo doo doo doo doo doo\n",
      "Baby Shark, doo doo doo doo doo doo\n",
      "Baby Shark, doo doo doo doo doo doo\n",
      "Baby Shark!\n",
      "\n"
     ]
    }
   ],
   "source": [
    "# your code here\n",
    "\n",
    "paragraph_1='{name}, doo doo doo doo doo doo\\n{name}, doo doo doo doo doo doo\\n{name}, doo doo doo doo doo doo\\n{name}!\\n'\n",
    "\n",
    "\n",
    "\n",
    "print(paragraph_1.format(name=\"Baby Shark\"))"
   ]
  },
  {
   "cell_type": "markdown",
   "metadata": {},
   "source": [
    "**Expected output**:\n",
    "\n",
    "```\n",
    "Baby shark, doo doo doo doo doo doo\n",
    "Baby shark, doo doo doo doo doo doo\n",
    "Baby shark, doo doo doo doo doo doo\n",
    "Baby shark!\n",
    "```\n",
    "\n"
   ]
  },
  {
   "cell_type": "markdown",
   "metadata": {},
   "source": [
    "### Step 2: Full song\n",
    "\n",
    "Create a code that prints the complete lyrics. "
   ]
  },
  {
   "cell_type": "code",
   "execution_count": 3,
   "metadata": {},
   "outputs": [
    {
     "name": "stdout",
     "output_type": "stream",
     "text": [
      "Baby shark, doo doo doo doo doo doo\n",
      "Baby shark, doo doo doo doo doo doo\n",
      "Baby shark, doo doo doo doo doo doo\n",
      "Baby shark!\n",
      "\n",
      "Mommy shark, doo doo doo doo doo doo\n",
      "Mommy shark, doo doo doo doo doo doo\n",
      "Mommy shark, doo doo doo doo doo doo\n",
      "Mommy shark!\n",
      "\n",
      "Daddy shark, doo doo doo doo doo doo\n",
      "Daddy shark, doo doo doo doo doo doo\n",
      "Daddy shark, doo doo doo doo doo doo\n",
      "Daddy shark!\n",
      "\n",
      "Grandma shark, doo doo doo doo doo doo\n",
      "Grandma shark, doo doo doo doo doo doo\n",
      "Grandma shark, doo doo doo doo doo doo\n",
      "Grandma shark!\n",
      "\n",
      "Grandpa shark, doo doo doo doo doo doo\n",
      "Grandpa shark, doo doo doo doo doo doo\n",
      "Grandpa shark, doo doo doo doo doo doo\n",
      "Grandpa shark!\n",
      "\n",
      "Let's go hunt, doo doo doo doo doo doo\n",
      "Let's go hunt, doo doo doo doo doo doo\n",
      "Let's go hunt, doo doo doo doo doo doo\n",
      "Let's go hunt!\n",
      "\n",
      "Run away,...\n"
     ]
    }
   ],
   "source": [
    "# your code here\n",
    "names=[\"Baby shark\",\"Mommy shark\",\"Daddy shark\",\"Grandma shark\",\"Grandpa shark\",\"Let's go hunt\"]\n",
    "\n",
    "for name in range(len(names)):\n",
    "    print(paragraph_1.format(name=names[name]))\n",
    "\n",
    "    \n",
    "print(\"Run away,...\")"
   ]
  },
  {
   "cell_type": "markdown",
   "metadata": {},
   "source": [
    "**Expected output**:\n",
    "\n",
    "```\n",
    "Baby shark, doo doo doo doo doo doo\n",
    "Baby shark, doo doo doo doo doo doo\n",
    "Baby shark, doo doo doo doo doo doo\n",
    "Baby shark!\n",
    "Mommy shark, doo doo doo doo doo doo\n",
    "Mommy shark, doo doo doo doo doo doo\n",
    "Mommy shark, doo doo doo doo doo doo\n",
    "Mommy shark!\n",
    "Daddy shark, doo doo doo doo doo doo\n",
    "Daddy shark, doo doo doo doo doo doo\n",
    "Daddy shark, doo doo doo doo doo doo\n",
    "Daddy shark!\n",
    "Grandma shark, doo doo doo doo doo doo\n",
    "Grandma shark, doo doo doo doo doo doo\n",
    "Grandma shark, doo doo doo doo doo doo\n",
    "Grandma shark!\n",
    "Grandpa shark, doo doo doo doo doo doo\n",
    "Grandpa shark, doo doo doo doo doo doo\n",
    "Grandpa shark, doo doo doo doo doo doo\n",
    "Grandpa shark!\n",
    "Let's go hunt, doo doo doo doo doo doo\n",
    "Let's go hunt, doo doo doo doo doo doo\n",
    "Let's go hunt, doo doo doo doo doo doo\n",
    "Let's go hunt!\n",
    "Run away,… \n",
    "```\n",
    "\n",
    "### Step 3: Check output\n",
    "Now i want you must create a string variable called **result** to store all the characters and check if it is equal to the lyrics. Remenber de hint section. "
   ]
  },
  {
   "cell_type": "code",
   "execution_count": 4,
   "metadata": {},
   "outputs": [],
   "source": [
    "# your code here\n",
    "result=paragraph_1.format(name=names[0])+paragraph_1.format(name=names[1])+paragraph_1.format(name=names[2])+paragraph_1.format(name=names[3])+paragraph_1.format(name=names[4])+paragraph_1.format(name=names[5])+'Run away,...'"
   ]
  },
  {
   "cell_type": "code",
   "execution_count": 5,
   "metadata": {},
   "outputs": [
    {
     "name": "stdout",
     "output_type": "stream",
     "text": [
      "True\n"
     ]
    }
   ],
   "source": [
    "# Check\n",
    "\n",
    "print(result == babyshark)"
   ]
  },
  {
   "cell_type": "markdown",
   "metadata": {},
   "source": [
    "**Expected output**:\n",
    "\n",
    "```\n",
    "True\n",
    "```\n",
    "\n",
    "### Step 4: Function\n",
    " Create a functions called babyshark() that generates the wanted output. "
   ]
  },
  {
   "cell_type": "code",
   "execution_count": 6,
   "metadata": {},
   "outputs": [],
   "source": [
    "def baby_shark_lyrics():\n",
    "    names=[\"Baby shark\",\"Mommy shark\",\"Daddy shark\",\"Grandma shark\",\"Grandpa shark\",\"Let's go hunt\"]\n",
    "    for name in names:\n",
    "        print(name+', doo doo doo doo doo doo\\n'+name+', doo doo doo doo doo doo\\n'+name+', doo doo doo doo doo doo\\n'+name+'!')\n",
    "    print('Run away,...')"
   ]
  },
  {
   "cell_type": "code",
   "execution_count": 7,
   "metadata": {},
   "outputs": [
    {
     "name": "stdout",
     "output_type": "stream",
     "text": [
      "Baby shark, doo doo doo doo doo doo\n",
      "Baby shark, doo doo doo doo doo doo\n",
      "Baby shark, doo doo doo doo doo doo\n",
      "Baby shark!\n",
      "Mommy shark, doo doo doo doo doo doo\n",
      "Mommy shark, doo doo doo doo doo doo\n",
      "Mommy shark, doo doo doo doo doo doo\n",
      "Mommy shark!\n",
      "Daddy shark, doo doo doo doo doo doo\n",
      "Daddy shark, doo doo doo doo doo doo\n",
      "Daddy shark, doo doo doo doo doo doo\n",
      "Daddy shark!\n",
      "Grandma shark, doo doo doo doo doo doo\n",
      "Grandma shark, doo doo doo doo doo doo\n",
      "Grandma shark, doo doo doo doo doo doo\n",
      "Grandma shark!\n",
      "Grandpa shark, doo doo doo doo doo doo\n",
      "Grandpa shark, doo doo doo doo doo doo\n",
      "Grandpa shark, doo doo doo doo doo doo\n",
      "Grandpa shark!\n",
      "Let's go hunt, doo doo doo doo doo doo\n",
      "Let's go hunt, doo doo doo doo doo doo\n",
      "Let's go hunt, doo doo doo doo doo doo\n",
      "Let's go hunt!\n",
      "Run away,...\n",
      "False\n"
     ]
    }
   ],
   "source": [
    "# Check\n",
    "\n",
    "print(baby_shark_lyrics() == babyshark)\n",
    "\n",
    "#No encuentro el error!!!Creo que es por el ultimo \\n eliminado, pero incluyéndolo tampoco sale True"
   ]
  },
  {
   "cell_type": "markdown",
   "metadata": {},
   "source": [
    "**Expected output**:\n",
    "\n",
    "```\n",
    "True\n",
    "```"
   ]
  },
  {
   "cell_type": "markdown",
   "metadata": {},
   "source": [
    "### Step 5: Files\n",
    "Baby shark lyrics can be read in the songs folder. Try to store the content of that file in a variable called **text** and check if it is equal to the babyshark variable and the output of your baby_shark_lyrics function. \n",
    "\n",
    "https://www.pythonforbeginners.com/files/reading-and-writing-files-in-python"
   ]
  },
  {
   "cell_type": "code",
   "execution_count": 8,
   "metadata": {},
   "outputs": [],
   "source": [
    "# your code here\n",
    "import os\n",
    "os.chdir('C:\\\\Users\\\\silvi\\\\Prework\\\\prework-datamad-no-solutions\\\\1.-Python\\\\lyrics\\\\songs')\n",
    "os.getcwd()\n",
    "text=''\n",
    "\n",
    "with open('baby-shark.txt','r') as f:\n",
    "    lines=f.readlines()\n",
    "    for line in lines:\n",
    "        text+=line"
   ]
  },
  {
   "cell_type": "code",
   "execution_count": 9,
   "metadata": {},
   "outputs": [
    {
     "name": "stdout",
     "output_type": "stream",
     "text": [
      "True\n"
     ]
    }
   ],
   "source": [
    "# check\n",
    "\n",
    "print(text == babyshark)\n",
    "\n",
    "#He cambiado los últimos \"...\" del txt original porque f.readlines() no reconocía el caracter original. Ídem con la cadena babyshark#"
   ]
  },
  {
   "cell_type": "markdown",
   "metadata": {},
   "source": [
    "**Expected output**:\n",
    "\n",
    "```\n",
    "True\n",
    "```"
   ]
  },
  {
   "cell_type": "code",
   "execution_count": 10,
   "metadata": {},
   "outputs": [
    {
     "name": "stdout",
     "output_type": "stream",
     "text": [
      "Baby shark, doo doo doo doo doo doo\n",
      "Baby shark, doo doo doo doo doo doo\n",
      "Baby shark, doo doo doo doo doo doo\n",
      "Baby shark!\n",
      "Mommy shark, doo doo doo doo doo doo\n",
      "Mommy shark, doo doo doo doo doo doo\n",
      "Mommy shark, doo doo doo doo doo doo\n",
      "Mommy shark!\n",
      "Daddy shark, doo doo doo doo doo doo\n",
      "Daddy shark, doo doo doo doo doo doo\n",
      "Daddy shark, doo doo doo doo doo doo\n",
      "Daddy shark!\n",
      "Grandma shark, doo doo doo doo doo doo\n",
      "Grandma shark, doo doo doo doo doo doo\n",
      "Grandma shark, doo doo doo doo doo doo\n",
      "Grandma shark!\n",
      "Grandpa shark, doo doo doo doo doo doo\n",
      "Grandpa shark, doo doo doo doo doo doo\n",
      "Grandpa shark, doo doo doo doo doo doo\n",
      "Grandpa shark!\n",
      "Let's go hunt, doo doo doo doo doo doo\n",
      "Let's go hunt, doo doo doo doo doo doo\n",
      "Let's go hunt, doo doo doo doo doo doo\n",
      "Let's go hunt!\n",
      "Run away,...\n",
      "False\n"
     ]
    }
   ],
   "source": [
    "# Check\n",
    "\n",
    "print(baby_shark_lyrics() == text)\n",
    "#Sigo sin ver el error en la función"
   ]
  },
  {
   "cell_type": "markdown",
   "metadata": {},
   "source": [
    "**Expected output**:\n",
    "\n",
    "```\n",
    "True\n",
    "```"
   ]
  },
  {
   "cell_type": "markdown",
   "metadata": {},
   "source": [
    "### Step 6: Refactor\n",
    "Now I want you to refactor your **baby_shark_lyrics** function in order to be less than 400 characters. If your code is larger than 400 characters, you should change baby_shark_lyrics function in order to shorten it."
   ]
  },
  {
   "cell_type": "code",
   "execution_count": 11,
   "metadata": {},
   "outputs": [
    {
     "name": "stdout",
     "output_type": "stream",
     "text": [
      "Your baby_shark_lyrics functions has 304 characters\n",
      "True\n"
     ]
    }
   ],
   "source": [
    "import inspect\n",
    "\n",
    "code = inspect.getsource(baby_shark_lyrics)\n",
    "\n",
    "#me sale un error y no llega a contarme el número de caracteres\n",
    "\n",
    "# check\n",
    "\n",
    "print('Your baby_shark_lyrics functions has {} characters'.format(len(code)))\n",
    "print(len(code) < 400)"
   ]
  },
  {
   "cell_type": "markdown",
   "metadata": {},
   "source": [
    "**Expected output**:\n",
    "\n",
    "```\n",
    "Your baby_shark_lyrics functions has 367 characters\n",
    "True\n",
    "```"
   ]
  },
  {
   "cell_type": "markdown",
   "metadata": {},
   "source": [
    "## Bonus\n",
    "\n",
    "http://www.99-bottles-of-beer.net/\n",
    "\n",
    "Now let`s try with another lyric, you can find it in songs folder. \n",
    "\n",
    "### Step 1. Create bottles_lyrics function"
   ]
  },
  {
   "cell_type": "code",
   "execution_count": 12,
   "metadata": {},
   "outputs": [],
   "source": [
    "def bottles_lyrics():\n",
    "    for number in range(99,0,-1):\n",
    "        print(number,' bottles of beer on the wall, 99 bottles of beer.\\nTake one down and pass it around,',number,' bottles of beer on the wall.\\n')\n",
    "    print('No more bottles of beer on the wall, no more bottles of beer.\\nGo to the store and buy some more, 99 bottles of beer on the wall.')"
   ]
  },
  {
   "cell_type": "markdown",
   "metadata": {},
   "source": [
    "### Step 2. Open file"
   ]
  },
  {
   "cell_type": "code",
   "execution_count": 14,
   "metadata": {},
   "outputs": [],
   "source": [
    "# your code here. \n",
    "import os\n",
    "os.chdir('C:\\\\Users\\\\silvi\\\\Prework\\\\prework-datamad-no-solutions\\\\1.-Python\\\\lyrics\\\\songs')\n",
    "os.getcwd()\n",
    "text=''\n",
    "\n",
    "with open('99-bottes-of-beer.txt','r') as f:\n",
    "    lines=f.readlines()\n",
    "    for line in lines:\n",
    "        text+=line\n"
   ]
  },
  {
   "cell_type": "code",
   "execution_count": 15,
   "metadata": {},
   "outputs": [
    {
     "name": "stdout",
     "output_type": "stream",
     "text": [
      "99  bottles of beer on the wall, 99 bottles of beer.\n",
      "Take one down and pass it around, 99  bottles of beer on the wall.\n",
      "\n",
      "98  bottles of beer on the wall, 99 bottles of beer.\n",
      "Take one down and pass it around, 98  bottles of beer on the wall.\n",
      "\n",
      "97  bottles of beer on the wall, 99 bottles of beer.\n",
      "Take one down and pass it around, 97  bottles of beer on the wall.\n",
      "\n",
      "96  bottles of beer on the wall, 99 bottles of beer.\n",
      "Take one down and pass it around, 96  bottles of beer on the wall.\n",
      "\n",
      "95  bottles of beer on the wall, 99 bottles of beer.\n",
      "Take one down and pass it around, 95  bottles of beer on the wall.\n",
      "\n",
      "94  bottles of beer on the wall, 99 bottles of beer.\n",
      "Take one down and pass it around, 94  bottles of beer on the wall.\n",
      "\n",
      "93  bottles of beer on the wall, 99 bottles of beer.\n",
      "Take one down and pass it around, 93  bottles of beer on the wall.\n",
      "\n",
      "92  bottles of beer on the wall, 99 bottles of beer.\n",
      "Take one down and pass it around, 92  bottles of beer on the wall.\n",
      "\n",
      "91  bottles of beer on the wall, 99 bottles of beer.\n",
      "Take one down and pass it around, 91  bottles of beer on the wall.\n",
      "\n",
      "90  bottles of beer on the wall, 99 bottles of beer.\n",
      "Take one down and pass it around, 90  bottles of beer on the wall.\n",
      "\n",
      "89  bottles of beer on the wall, 99 bottles of beer.\n",
      "Take one down and pass it around, 89  bottles of beer on the wall.\n",
      "\n",
      "88  bottles of beer on the wall, 99 bottles of beer.\n",
      "Take one down and pass it around, 88  bottles of beer on the wall.\n",
      "\n",
      "87  bottles of beer on the wall, 99 bottles of beer.\n",
      "Take one down and pass it around, 87  bottles of beer on the wall.\n",
      "\n",
      "86  bottles of beer on the wall, 99 bottles of beer.\n",
      "Take one down and pass it around, 86  bottles of beer on the wall.\n",
      "\n",
      "85  bottles of beer on the wall, 99 bottles of beer.\n",
      "Take one down and pass it around, 85  bottles of beer on the wall.\n",
      "\n",
      "84  bottles of beer on the wall, 99 bottles of beer.\n",
      "Take one down and pass it around, 84  bottles of beer on the wall.\n",
      "\n",
      "83  bottles of beer on the wall, 99 bottles of beer.\n",
      "Take one down and pass it around, 83  bottles of beer on the wall.\n",
      "\n",
      "82  bottles of beer on the wall, 99 bottles of beer.\n",
      "Take one down and pass it around, 82  bottles of beer on the wall.\n",
      "\n",
      "81  bottles of beer on the wall, 99 bottles of beer.\n",
      "Take one down and pass it around, 81  bottles of beer on the wall.\n",
      "\n",
      "80  bottles of beer on the wall, 99 bottles of beer.\n",
      "Take one down and pass it around, 80  bottles of beer on the wall.\n",
      "\n",
      "79  bottles of beer on the wall, 99 bottles of beer.\n",
      "Take one down and pass it around, 79  bottles of beer on the wall.\n",
      "\n",
      "78  bottles of beer on the wall, 99 bottles of beer.\n",
      "Take one down and pass it around, 78  bottles of beer on the wall.\n",
      "\n",
      "77  bottles of beer on the wall, 99 bottles of beer.\n",
      "Take one down and pass it around, 77  bottles of beer on the wall.\n",
      "\n",
      "76  bottles of beer on the wall, 99 bottles of beer.\n",
      "Take one down and pass it around, 76  bottles of beer on the wall.\n",
      "\n",
      "75  bottles of beer on the wall, 99 bottles of beer.\n",
      "Take one down and pass it around, 75  bottles of beer on the wall.\n",
      "\n",
      "74  bottles of beer on the wall, 99 bottles of beer.\n",
      "Take one down and pass it around, 74  bottles of beer on the wall.\n",
      "\n",
      "73  bottles of beer on the wall, 99 bottles of beer.\n",
      "Take one down and pass it around, 73  bottles of beer on the wall.\n",
      "\n",
      "72  bottles of beer on the wall, 99 bottles of beer.\n",
      "Take one down and pass it around, 72  bottles of beer on the wall.\n",
      "\n",
      "71  bottles of beer on the wall, 99 bottles of beer.\n",
      "Take one down and pass it around, 71  bottles of beer on the wall.\n",
      "\n",
      "70  bottles of beer on the wall, 99 bottles of beer.\n",
      "Take one down and pass it around, 70  bottles of beer on the wall.\n",
      "\n",
      "69  bottles of beer on the wall, 99 bottles of beer.\n",
      "Take one down and pass it around, 69  bottles of beer on the wall.\n",
      "\n",
      "68  bottles of beer on the wall, 99 bottles of beer.\n",
      "Take one down and pass it around, 68  bottles of beer on the wall.\n",
      "\n",
      "67  bottles of beer on the wall, 99 bottles of beer.\n",
      "Take one down and pass it around, 67  bottles of beer on the wall.\n",
      "\n",
      "66  bottles of beer on the wall, 99 bottles of beer.\n",
      "Take one down and pass it around, 66  bottles of beer on the wall.\n",
      "\n",
      "65  bottles of beer on the wall, 99 bottles of beer.\n",
      "Take one down and pass it around, 65  bottles of beer on the wall.\n",
      "\n",
      "64  bottles of beer on the wall, 99 bottles of beer.\n",
      "Take one down and pass it around, 64  bottles of beer on the wall.\n",
      "\n",
      "63  bottles of beer on the wall, 99 bottles of beer.\n",
      "Take one down and pass it around, 63  bottles of beer on the wall.\n",
      "\n",
      "62  bottles of beer on the wall, 99 bottles of beer.\n",
      "Take one down and pass it around, 62  bottles of beer on the wall.\n",
      "\n",
      "61  bottles of beer on the wall, 99 bottles of beer.\n",
      "Take one down and pass it around, 61  bottles of beer on the wall.\n",
      "\n",
      "60  bottles of beer on the wall, 99 bottles of beer.\n",
      "Take one down and pass it around, 60  bottles of beer on the wall.\n",
      "\n",
      "59  bottles of beer on the wall, 99 bottles of beer.\n",
      "Take one down and pass it around, 59  bottles of beer on the wall.\n",
      "\n",
      "58  bottles of beer on the wall, 99 bottles of beer.\n",
      "Take one down and pass it around, 58  bottles of beer on the wall.\n",
      "\n",
      "57  bottles of beer on the wall, 99 bottles of beer.\n",
      "Take one down and pass it around, 57  bottles of beer on the wall.\n",
      "\n",
      "56  bottles of beer on the wall, 99 bottles of beer.\n",
      "Take one down and pass it around, 56  bottles of beer on the wall.\n",
      "\n",
      "55  bottles of beer on the wall, 99 bottles of beer.\n",
      "Take one down and pass it around, 55  bottles of beer on the wall.\n",
      "\n",
      "54  bottles of beer on the wall, 99 bottles of beer.\n",
      "Take one down and pass it around, 54  bottles of beer on the wall.\n",
      "\n",
      "53  bottles of beer on the wall, 99 bottles of beer.\n",
      "Take one down and pass it around, 53  bottles of beer on the wall.\n",
      "\n",
      "52  bottles of beer on the wall, 99 bottles of beer.\n",
      "Take one down and pass it around, 52  bottles of beer on the wall.\n",
      "\n",
      "51  bottles of beer on the wall, 99 bottles of beer.\n",
      "Take one down and pass it around, 51  bottles of beer on the wall.\n",
      "\n",
      "50  bottles of beer on the wall, 99 bottles of beer.\n",
      "Take one down and pass it around, 50  bottles of beer on the wall.\n",
      "\n",
      "49  bottles of beer on the wall, 99 bottles of beer.\n",
      "Take one down and pass it around, 49  bottles of beer on the wall.\n",
      "\n",
      "48  bottles of beer on the wall, 99 bottles of beer.\n",
      "Take one down and pass it around, 48  bottles of beer on the wall.\n",
      "\n",
      "47  bottles of beer on the wall, 99 bottles of beer.\n",
      "Take one down and pass it around, 47  bottles of beer on the wall.\n",
      "\n",
      "46  bottles of beer on the wall, 99 bottles of beer.\n",
      "Take one down and pass it around, 46  bottles of beer on the wall.\n",
      "\n",
      "45  bottles of beer on the wall, 99 bottles of beer.\n",
      "Take one down and pass it around, 45  bottles of beer on the wall.\n",
      "\n",
      "44  bottles of beer on the wall, 99 bottles of beer.\n",
      "Take one down and pass it around, 44  bottles of beer on the wall.\n",
      "\n",
      "43  bottles of beer on the wall, 99 bottles of beer.\n",
      "Take one down and pass it around, 43  bottles of beer on the wall.\n",
      "\n",
      "42  bottles of beer on the wall, 99 bottles of beer.\n",
      "Take one down and pass it around, 42  bottles of beer on the wall.\n",
      "\n",
      "41  bottles of beer on the wall, 99 bottles of beer.\n",
      "Take one down and pass it around, 41  bottles of beer on the wall.\n",
      "\n",
      "40  bottles of beer on the wall, 99 bottles of beer.\n",
      "Take one down and pass it around, 40  bottles of beer on the wall.\n",
      "\n",
      "39  bottles of beer on the wall, 99 bottles of beer.\n",
      "Take one down and pass it around, 39  bottles of beer on the wall.\n",
      "\n",
      "38  bottles of beer on the wall, 99 bottles of beer.\n",
      "Take one down and pass it around, 38  bottles of beer on the wall.\n",
      "\n",
      "37  bottles of beer on the wall, 99 bottles of beer.\n",
      "Take one down and pass it around, 37  bottles of beer on the wall.\n",
      "\n",
      "36  bottles of beer on the wall, 99 bottles of beer.\n",
      "Take one down and pass it around, 36  bottles of beer on the wall.\n",
      "\n",
      "35  bottles of beer on the wall, 99 bottles of beer.\n",
      "Take one down and pass it around, 35  bottles of beer on the wall.\n",
      "\n",
      "34  bottles of beer on the wall, 99 bottles of beer.\n",
      "Take one down and pass it around, 34  bottles of beer on the wall.\n",
      "\n",
      "33  bottles of beer on the wall, 99 bottles of beer.\n",
      "Take one down and pass it around, 33  bottles of beer on the wall.\n",
      "\n",
      "32  bottles of beer on the wall, 99 bottles of beer.\n",
      "Take one down and pass it around, 32  bottles of beer on the wall.\n",
      "\n",
      "31  bottles of beer on the wall, 99 bottles of beer.\n",
      "Take one down and pass it around, 31  bottles of beer on the wall.\n",
      "\n",
      "30  bottles of beer on the wall, 99 bottles of beer.\n",
      "Take one down and pass it around, 30  bottles of beer on the wall.\n",
      "\n",
      "29  bottles of beer on the wall, 99 bottles of beer.\n",
      "Take one down and pass it around, 29  bottles of beer on the wall.\n",
      "\n",
      "28  bottles of beer on the wall, 99 bottles of beer.\n",
      "Take one down and pass it around, 28  bottles of beer on the wall.\n",
      "\n",
      "27  bottles of beer on the wall, 99 bottles of beer.\n",
      "Take one down and pass it around, 27  bottles of beer on the wall.\n",
      "\n",
      "26  bottles of beer on the wall, 99 bottles of beer.\n",
      "Take one down and pass it around, 26  bottles of beer on the wall.\n",
      "\n",
      "25  bottles of beer on the wall, 99 bottles of beer.\n",
      "Take one down and pass it around, 25  bottles of beer on the wall.\n",
      "\n",
      "24  bottles of beer on the wall, 99 bottles of beer.\n",
      "Take one down and pass it around, 24  bottles of beer on the wall.\n",
      "\n",
      "23  bottles of beer on the wall, 99 bottles of beer.\n",
      "Take one down and pass it around, 23  bottles of beer on the wall.\n",
      "\n",
      "22  bottles of beer on the wall, 99 bottles of beer.\n",
      "Take one down and pass it around, 22  bottles of beer on the wall.\n",
      "\n",
      "21  bottles of beer on the wall, 99 bottles of beer.\n",
      "Take one down and pass it around, 21  bottles of beer on the wall.\n",
      "\n",
      "20  bottles of beer on the wall, 99 bottles of beer.\n",
      "Take one down and pass it around, 20  bottles of beer on the wall.\n",
      "\n",
      "19  bottles of beer on the wall, 99 bottles of beer.\n",
      "Take one down and pass it around, 19  bottles of beer on the wall.\n",
      "\n",
      "18  bottles of beer on the wall, 99 bottles of beer.\n",
      "Take one down and pass it around, 18  bottles of beer on the wall.\n",
      "\n",
      "17  bottles of beer on the wall, 99 bottles of beer.\n",
      "Take one down and pass it around, 17  bottles of beer on the wall.\n",
      "\n",
      "16  bottles of beer on the wall, 99 bottles of beer.\n",
      "Take one down and pass it around, 16  bottles of beer on the wall.\n",
      "\n",
      "15  bottles of beer on the wall, 99 bottles of beer.\n",
      "Take one down and pass it around, 15  bottles of beer on the wall.\n",
      "\n",
      "14  bottles of beer on the wall, 99 bottles of beer.\n",
      "Take one down and pass it around, 14  bottles of beer on the wall.\n",
      "\n",
      "13  bottles of beer on the wall, 99 bottles of beer.\n",
      "Take one down and pass it around, 13  bottles of beer on the wall.\n",
      "\n",
      "12  bottles of beer on the wall, 99 bottles of beer.\n",
      "Take one down and pass it around, 12  bottles of beer on the wall.\n",
      "\n",
      "11  bottles of beer on the wall, 99 bottles of beer.\n",
      "Take one down and pass it around, 11  bottles of beer on the wall.\n",
      "\n",
      "10  bottles of beer on the wall, 99 bottles of beer.\n",
      "Take one down and pass it around, 10  bottles of beer on the wall.\n",
      "\n",
      "9  bottles of beer on the wall, 99 bottles of beer.\n",
      "Take one down and pass it around, 9  bottles of beer on the wall.\n",
      "\n",
      "8  bottles of beer on the wall, 99 bottles of beer.\n",
      "Take one down and pass it around, 8  bottles of beer on the wall.\n",
      "\n",
      "7  bottles of beer on the wall, 99 bottles of beer.\n",
      "Take one down and pass it around, 7  bottles of beer on the wall.\n",
      "\n",
      "6  bottles of beer on the wall, 99 bottles of beer.\n",
      "Take one down and pass it around, 6  bottles of beer on the wall.\n",
      "\n",
      "5  bottles of beer on the wall, 99 bottles of beer.\n",
      "Take one down and pass it around, 5  bottles of beer on the wall.\n",
      "\n",
      "4  bottles of beer on the wall, 99 bottles of beer.\n",
      "Take one down and pass it around, 4  bottles of beer on the wall.\n",
      "\n",
      "3  bottles of beer on the wall, 99 bottles of beer.\n",
      "Take one down and pass it around, 3  bottles of beer on the wall.\n",
      "\n",
      "2  bottles of beer on the wall, 99 bottles of beer.\n",
      "Take one down and pass it around, 2  bottles of beer on the wall.\n",
      "\n",
      "1  bottles of beer on the wall, 99 bottles of beer.\n",
      "Take one down and pass it around, 1  bottles of beer on the wall.\n",
      "\n",
      "No more bottles of beer on the wall, no more bottles of beer.\n",
      "Go to the store and buy some more, 99 bottles of beer on the wall.\n",
      "False\n"
     ]
    }
   ],
   "source": [
    "# Check\n",
    "\n",
    "print(bottles_lyrics() == text)\n",
    "#No veo el error!"
   ]
  },
  {
   "cell_type": "markdown",
   "metadata": {},
   "source": [
    "**Expected output**:\n",
    "\n",
    "```\n",
    "True\n",
    "```"
   ]
  },
  {
   "cell_type": "markdown",
   "metadata": {},
   "source": [
    "### Step 3: Check code\n",
    "Now I want you to refactor your **bottles_lyrics** function in order to be less than 1000 characters. "
   ]
  },
  {
   "cell_type": "code",
   "execution_count": 16,
   "metadata": {},
   "outputs": [],
   "source": [
    "import inspect\n",
    "\n",
    "code = inspect.getsource(bottles_lyrics)\n",
    "\n",
    "#me sale un error y no llega a contarme el número de caracteres"
   ]
  },
  {
   "cell_type": "code",
   "execution_count": 17,
   "metadata": {},
   "outputs": [
    {
     "name": "stdout",
     "output_type": "stream",
     "text": [
      "Your bottles_lyrics functions has 349 characters\n",
      "True\n"
     ]
    }
   ],
   "source": [
    "# check\n",
    "\n",
    "print('Your bottles_lyrics functions has {} characters'.format(len(code)))\n",
    "print(len(code) < 1000)"
   ]
  },
  {
   "cell_type": "markdown",
   "metadata": {},
   "source": [
    "**Expected output**:\n",
    "\n",
    "```\n",
    "Your bottles_lyrics functions has 837 characters\n",
    "True\n",
    "```"
   ]
  },
  {
   "cell_type": "markdown",
   "metadata": {},
   "source": [
    "If you want a real challenge, follow the link below. Sign in and start coding!\n",
    "\n",
    "https://www.codewars.com/kata/baby-shark-lyrics-generator/train/python"
   ]
  }
 ],
 "metadata": {
  "kernelspec": {
   "display_name": "Python 3",
   "language": "python",
   "name": "python3"
  },
  "language_info": {
   "codemirror_mode": {
    "name": "ipython",
    "version": 3
   },
   "file_extension": ".py",
   "mimetype": "text/x-python",
   "name": "python",
   "nbconvert_exporter": "python",
   "pygments_lexer": "ipython3",
   "version": "3.7.6"
  }
 },
 "nbformat": 4,
 "nbformat_minor": 2
}
